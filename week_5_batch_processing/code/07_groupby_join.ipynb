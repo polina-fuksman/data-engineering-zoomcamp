{
 "cells": [
  {
   "cell_type": "code",
   "execution_count": 17,
   "id": "a9a4b358-6201-4b8b-b2e4-9449aac995e2",
   "metadata": {},
   "outputs": [],
   "source": [
    "import pyspark\n",
    "from pyspark.sql import SparkSession\n",
    "\n",
    "spark = SparkSession.builder \\\n",
    "    .master(\"local[*]\") \\\n",
    "    .appName('test') \\\n",
    "    .getOrCreate()"
   ]
  },
  {
   "cell_type": "code",
   "execution_count": 18,
   "id": "0a6306f5-1c9f-49e8-9f61-e44e7b38ba41",
   "metadata": {},
   "outputs": [],
   "source": [
    "df_green = spark.read.parquet('data/pq/green/*/*')"
   ]
  },
  {
   "cell_type": "code",
   "execution_count": 19,
   "id": "2de57006-c755-4448-afbd-f54308a3b5d1",
   "metadata": {},
   "outputs": [],
   "source": [
    "df_green.registerTempTable('green')"
   ]
  },
  {
   "cell_type": "code",
   "execution_count": 20,
   "id": "2dd26d92-cf3f-486e-af92-111e8d8b1167",
   "metadata": {},
   "outputs": [],
   "source": [
    "df_green_revenue = spark.sql(\"\"\"\n",
    "SELECT \n",
    "    -- Revenue grouping \n",
    "    date_trunc(\"hour\", lpep_pickup_datetime) AS hour,\n",
    "    PULocationID AS zone,\n",
    "\n",
    "\n",
    "    SUM(total_amount) AS total_amount,\n",
    "    COUNT(1) AS count_records\n",
    "FROM \n",
    "    green\n",
    "WHERE\n",
    "    lpep_pickup_datetime >= '2020-01-01 00:00:00'\n",
    "    AND\n",
    "    lpep_pickup_datetime < '2022-01-01 00:00:00'\n",
    "GROUP BY \n",
    "    1,2\n",
    ";\n",
    "\"\"\")"
   ]
  },
  {
   "cell_type": "code",
   "execution_count": 21,
   "id": "84595033-7d9c-4496-a88e-f87d5d34e567",
   "metadata": {},
   "outputs": [
    {
     "name": "stderr",
     "output_type": "stream",
     "text": [
      "[Stage 36:===========================================>              (3 + 1) / 4]\r"
     ]
    },
    {
     "name": "stdout",
     "output_type": "stream",
     "text": [
      "+-------------------+----+------------------+-------------+\n",
      "|               hour|zone|      total_amount|count_records|\n",
      "+-------------------+----+------------------+-------------+\n",
      "|2020-01-31 11:00:00| 220|            168.08|            6|\n",
      "|2020-01-04 16:00:00| 196|210.44000000000005|           10|\n",
      "|2020-01-04 20:00:00|  25|369.57000000000005|           23|\n",
      "|2020-01-29 14:00:00| 203|             43.26|            2|\n",
      "|2020-01-02 13:00:00|  74|1037.6299999999994|           71|\n",
      "|2020-01-23 22:00:00|  35|             36.11|            2|\n",
      "|2020-01-26 12:00:00|  35|            257.03|            8|\n",
      "|2020-01-22 10:00:00|  74|1179.0599999999988|           83|\n",
      "|2020-01-10 22:00:00| 216|            181.89|            5|\n",
      "|2020-01-24 10:00:00| 260|            149.63|           10|\n",
      "|2020-01-24 05:00:00| 133|             19.78|            1|\n",
      "|2020-01-03 13:00:00| 250|              27.6|            2|\n",
      "|2020-01-16 01:00:00|   7|             110.1|            9|\n",
      "|2020-01-02 09:00:00|  66|             229.4|           12|\n",
      "|2020-01-11 22:00:00|  42|325.09000000000015|           30|\n",
      "|2020-01-16 20:00:00|  65| 501.2800000000002|           32|\n",
      "|2020-01-30 14:00:00| 227|             27.22|            1|\n",
      "|2020-01-19 19:00:00|  82|373.83000000000015|           31|\n",
      "|2020-01-07 11:00:00|  89|294.15999999999997|           12|\n",
      "|2020-01-08 15:00:00|  62|118.22000000000001|            5|\n",
      "+-------------------+----+------------------+-------------+\n",
      "only showing top 20 rows\n",
      "\n"
     ]
    },
    {
     "name": "stderr",
     "output_type": "stream",
     "text": [
      "                                                                                \r"
     ]
    }
   ],
   "source": [
    "df_green_revenue.show()"
   ]
  },
  {
   "cell_type": "code",
   "execution_count": 22,
   "id": "c2041329-ee48-4849-9b1d-d29411719285",
   "metadata": {},
   "outputs": [
    {
     "name": "stderr",
     "output_type": "stream",
     "text": [
      "                                                                                \r"
     ]
    }
   ],
   "source": [
    "df_green_revenue \\\n",
    "    .repartition(20) \\\n",
    "    .write.parquet('data/report/revenue/green', mode='overwrite')"
   ]
  },
  {
   "cell_type": "code",
   "execution_count": 23,
   "id": "bd747fb5-e72a-4e1d-a14f-06a77d5987a0",
   "metadata": {},
   "outputs": [],
   "source": [
    "df_yellow = spark.read.parquet('data/pq/yellow/*/*')\n",
    "df_yellow.registerTempTable('yellow')"
   ]
  },
  {
   "cell_type": "code",
   "execution_count": 24,
   "id": "ef51790c-adba-4344-b3cb-52d4f5ed5463",
   "metadata": {},
   "outputs": [],
   "source": [
    "df_yellow_revenue = spark.sql(\"\"\"\n",
    "SELECT \n",
    "    -- Revenue grouping \n",
    "    date_trunc(\"hour\", tpep_pickup_datetime) AS hour,\n",
    "    PULocationID AS zone,\n",
    "\n",
    "\n",
    "    SUM(total_amount) AS total_amount,\n",
    "    COUNT(1) AS count_records\n",
    "FROM \n",
    "    yellow\n",
    "WHERE\n",
    "    tpep_pickup_datetime >= '2020-01-01 00:00:00'\n",
    "    AND\n",
    "    tpep_pickup_datetime < '2022-01-01 00:00:00'\n",
    "GROUP BY \n",
    "    1,2\n",
    ";\n",
    "\"\"\")"
   ]
  },
  {
   "cell_type": "code",
   "execution_count": 25,
   "id": "85b73e55-a4c5-4c83-8243-949c56a159f4",
   "metadata": {},
   "outputs": [
    {
     "name": "stderr",
     "output_type": "stream",
     "text": [
      "                                                                                \r"
     ]
    }
   ],
   "source": [
    "df_yellow_revenue \\\n",
    "    .repartition(20) \\\n",
    "    .write.parquet('data/report/revenue/yellow', mode='overwrite')"
   ]
  },
  {
   "cell_type": "code",
   "execution_count": 26,
   "id": "adef0076-e1a8-42ee-9cf7-679af9100165",
   "metadata": {},
   "outputs": [
    {
     "name": "stderr",
     "output_type": "stream",
     "text": [
      "[Stage 52:====================================================>   (14 + 1) / 15]\r"
     ]
    },
    {
     "name": "stdout",
     "output_type": "stream",
     "text": [
      "+-------------------+----+------------------+-------------+\n",
      "|               hour|zone|      total_amount|count_records|\n",
      "+-------------------+----+------------------+-------------+\n",
      "|2020-01-29 18:00:00| 229| 5427.470000000005|          304|\n",
      "|2020-01-24 15:00:00| 264| 2249.289999999999|           93|\n",
      "|2020-01-21 18:00:00| 162|14090.389999999996|          816|\n",
      "|2020-01-18 00:00:00| 144| 2951.300000000001|          174|\n",
      "|2020-01-17 03:00:00| 132|2031.0099999999995|           46|\n",
      "|2020-01-23 19:00:00| 224|327.28000000000003|           16|\n",
      "|2020-01-06 08:00:00|  43| 2765.499999999998|          169|\n",
      "|2020-01-04 11:00:00| 140| 1662.959999999999|          112|\n",
      "|2020-01-04 23:00:00|  87| 744.2199999999999|           36|\n",
      "|2020-01-26 17:00:00| 107| 4251.760000000004|          274|\n",
      "|2020-01-31 13:00:00| 140| 4380.170000000002|          277|\n",
      "|2020-01-31 21:00:00|  50|1784.4399999999994|          104|\n",
      "|2020-01-08 08:00:00| 249| 2433.119999999999|          165|\n",
      "|2020-01-17 08:00:00|  13|2948.7200000000003|          162|\n",
      "|2020-01-09 17:00:00| 262|2858.6699999999983|          187|\n",
      "|2020-01-27 06:00:00| 238|2353.1599999999985|          126|\n",
      "|2020-01-21 16:00:00| 151|1384.1999999999991|          102|\n",
      "|2020-01-23 19:00:00| 164| 5608.690000000012|          321|\n",
      "|2020-01-24 12:00:00| 186| 7253.490000000013|          401|\n",
      "|2020-01-04 21:00:00| 233| 1634.709999999999|          112|\n",
      "+-------------------+----+------------------+-------------+\n",
      "only showing top 20 rows\n",
      "\n"
     ]
    },
    {
     "name": "stderr",
     "output_type": "stream",
     "text": [
      "                                                                                \r"
     ]
    }
   ],
   "source": [
    "df_yellow_revenue.show()"
   ]
  },
  {
   "cell_type": "code",
   "execution_count": 27,
   "id": "d2921a03-57a9-4a1e-a33a-0371cde70fa9",
   "metadata": {},
   "outputs": [],
   "source": [
    "df_green_revenue = spark.read.parquet('data/report/revenue/green')\n",
    "df_yellow_revenue = spark.read.parquet('data/report/revenue/yellow')"
   ]
  },
  {
   "cell_type": "code",
   "execution_count": 28,
   "id": "5d282676-453b-40b1-8e90-c638abcfe40c",
   "metadata": {},
   "outputs": [],
   "source": [
    "df_green_revenue_tmp = df_green_revenue \\\n",
    "    .withColumnRenamed('total_amount','green_total_amount') \\\n",
    "    .withColumnRenamed('count_records','green_count_records')\n",
    "\n",
    "df_yellow_revenue_tmp = df_yellow_revenue \\\n",
    "    .withColumnRenamed('total_amount','yellow_total_amount') \\\n",
    "    .withColumnRenamed('count_records','yellow_count_records')"
   ]
  },
  {
   "cell_type": "code",
   "execution_count": 29,
   "id": "ab562e27-2fe2-4c6e-9bb2-1305e5f87b58",
   "metadata": {},
   "outputs": [],
   "source": [
    "df_join = df_green_revenue_tmp.join(df_yellow_revenue_tmp, on=['hour', 'zone'], how='outer')"
   ]
  },
  {
   "cell_type": "code",
   "execution_count": 30,
   "id": "825cdd67-f923-40ab-b24c-fd10af41557e",
   "metadata": {},
   "outputs": [
    {
     "name": "stderr",
     "output_type": "stream",
     "text": [
      "[Stage 58:==============>                                           (1 + 3) / 4]\r"
     ]
    },
    {
     "name": "stdout",
     "output_type": "stream",
     "text": [
      "+-------------------+----+------------------+-------------------+-------------------+--------------------+\n",
      "|               hour|zone|green_total_amount|green_count_records|yellow_total_amount|yellow_count_records|\n",
      "+-------------------+----+------------------+-------------------+-------------------+--------------------+\n",
      "|2020-01-01 00:00:00|   3|              null|               null|               25.0|                   1|\n",
      "|2020-01-01 00:00:00|   4|              null|               null|             1004.3|                  57|\n",
      "|2020-01-01 00:00:00|   7| 769.7299999999996|                 45|  455.1700000000002|                  38|\n",
      "|2020-01-01 00:00:00|  12|              null|               null| 106.99999999999999|                   6|\n",
      "|2020-01-01 00:00:00|  37|            175.67|                  6| 161.60999999999999|                   7|\n",
      "|2020-01-01 00:00:00|  40|            168.98|                  8|  89.97000000000001|                   5|\n",
      "|2020-01-01 00:00:00|  45|              null|               null|  732.4800000000001|                  42|\n",
      "|2020-01-01 00:00:00|  47|              13.3|                  1|                8.3|                   1|\n",
      "|2020-01-01 00:00:00|  51|              17.8|                  2|               31.0|                   1|\n",
      "|2020-01-01 00:00:00|  62|             15.95|                  1|              61.43|                   1|\n",
      "|2020-01-01 00:00:00|  68|              null|               null|  7825.070000000012|                 396|\n",
      "|2020-01-01 00:00:00|  73|              null|               null|               17.3|                   1|\n",
      "|2020-01-01 00:00:00|  74|317.09000000000015|                 24|  586.2100000000003|                  47|\n",
      "|2020-01-01 00:00:00|  77| 75.99000000000001|                  2|             134.24|                   3|\n",
      "|2020-01-01 00:00:00|  80|            364.32|                 13|              371.4|                  20|\n",
      "|2020-01-01 00:00:00|  83|              94.1|                  7|                9.8|                   1|\n",
      "|2020-01-01 00:00:00|  88|              null|               null|              823.8|                  36|\n",
      "|2020-01-01 00:00:00|  89|              11.3|                  1|              48.16|                   2|\n",
      "|2020-01-01 00:00:00|  94| 64.24000000000001|                  3|               13.3|                   1|\n",
      "|2020-01-01 00:00:00|  95|             202.2|                 15|                6.3|                   1|\n",
      "+-------------------+----+------------------+-------------------+-------------------+--------------------+\n",
      "only showing top 20 rows\n",
      "\n"
     ]
    },
    {
     "name": "stderr",
     "output_type": "stream",
     "text": [
      "                                                                                \r"
     ]
    }
   ],
   "source": [
    "df_join.show()"
   ]
  },
  {
   "cell_type": "code",
   "execution_count": 31,
   "id": "001fb973-c7eb-4dbd-a269-17644a61e02d",
   "metadata": {},
   "outputs": [
    {
     "name": "stderr",
     "output_type": "stream",
     "text": [
      "                                                                                \r"
     ]
    }
   ],
   "source": [
    "df_join.write.parquet('data/report/revenue/total', mode='overwrite')"
   ]
  },
  {
   "cell_type": "code",
   "execution_count": 34,
   "id": "63cb4a6c-9f21-4525-9bd7-1de4b943a75a",
   "metadata": {},
   "outputs": [],
   "source": [
    "df_join = spark.read.parquet('data/report/revenue/total')"
   ]
  },
  {
   "cell_type": "code",
   "execution_count": 35,
   "id": "f6648196-2258-465b-a7c0-e4423b4887fc",
   "metadata": {
    "jupyter": {
     "source_hidden": true
    }
   },
   "outputs": [
    {
     "name": "stdout",
     "output_type": "stream",
     "text": [
      "+-------------------+----+------------------+-------------------+-------------------+--------------------+\n",
      "|               hour|zone|green_total_amount|green_count_records|yellow_total_amount|yellow_count_records|\n",
      "+-------------------+----+------------------+-------------------+-------------------+--------------------+\n",
      "|2020-01-01 00:00:00|  14|              null|               null|                8.8|                   1|\n",
      "|2020-01-01 00:00:00|  15|              null|               null|              34.09|                   1|\n",
      "|2020-01-01 00:00:00|  17|195.02999999999997|                  9| 220.20999999999998|                   8|\n",
      "|2020-01-01 00:00:00|  25|             531.0|                 26|             324.35|                  16|\n",
      "|2020-01-01 00:00:00|  32| 68.94999999999999|                  2|               18.0|                   1|\n",
      "|2020-01-01 00:00:00|  43|            107.52|                  6|  6539.510000000013|                 390|\n",
      "|2020-01-01 00:00:00|  49|266.76000000000005|                 14|             185.65|                  10|\n",
      "|2020-01-01 00:00:00|  59|              50.9|                  3|               null|                null|\n",
      "|2020-01-01 00:00:00|  69|              11.8|                  1| 106.52000000000001|                   4|\n",
      "|2020-01-01 00:00:00|  71|              23.8|                  1|               null|                null|\n",
      "|2020-01-01 00:00:00|  72|             67.53|                  2|               null|                null|\n",
      "|2020-01-01 00:00:00|  75|278.14000000000004|                 26|  958.3499999999992|                  69|\n",
      "|2020-01-01 00:00:00|  78|             34.46|                  2|               null|                null|\n",
      "|2020-01-01 00:00:00|  82| 305.1200000000001|                 28|               29.8|                   1|\n",
      "|2020-01-01 00:00:00|  85|             64.76|                  4| 102.56000000000002|                   3|\n",
      "|2020-01-01 00:00:00|  87|              null|               null| 2456.6699999999987|                 112|\n",
      "|2020-01-01 00:00:00|  93|              null|               null| 210.27999999999997|                   3|\n",
      "|2020-01-01 00:00:00| 107|              null|               null|  6441.030000000012|                 380|\n",
      "|2020-01-01 00:00:00| 113|              null|               null| 3984.3200000000033|                 220|\n",
      "|2020-01-01 00:00:00| 116| 328.7600000000001|                 18|  561.5100000000001|                  34|\n",
      "+-------------------+----+------------------+-------------------+-------------------+--------------------+\n",
      "only showing top 20 rows\n",
      "\n"
     ]
    }
   ],
   "source": [
    "df_join.show()"
   ]
  },
  {
   "cell_type": "code",
   "execution_count": 36,
   "id": "7c6725c0-bfd6-475c-a33d-b79b5f95e605",
   "metadata": {},
   "outputs": [],
   "source": [
    "df_zones = spark.read.parquet('zones/')"
   ]
  },
  {
   "cell_type": "code",
   "execution_count": 37,
   "id": "dade7002-e942-4f72-804a-53b8359eef9f",
   "metadata": {},
   "outputs": [
    {
     "name": "stdout",
     "output_type": "stream",
     "text": [
      "+----------+-------------+--------------------+------------+\n",
      "|LocationID|      Borough|                Zone|service_zone|\n",
      "+----------+-------------+--------------------+------------+\n",
      "|         1|          EWR|      Newark Airport|         EWR|\n",
      "|         2|       Queens|         Jamaica Bay|   Boro Zone|\n",
      "|         3|        Bronx|Allerton/Pelham G...|   Boro Zone|\n",
      "|         4|    Manhattan|       Alphabet City| Yellow Zone|\n",
      "|         5|Staten Island|       Arden Heights|   Boro Zone|\n",
      "|         6|Staten Island|Arrochar/Fort Wad...|   Boro Zone|\n",
      "|         7|       Queens|             Astoria|   Boro Zone|\n",
      "|         8|       Queens|        Astoria Park|   Boro Zone|\n",
      "|         9|       Queens|          Auburndale|   Boro Zone|\n",
      "|        10|       Queens|        Baisley Park|   Boro Zone|\n",
      "|        11|     Brooklyn|          Bath Beach|   Boro Zone|\n",
      "|        12|    Manhattan|        Battery Park| Yellow Zone|\n",
      "|        13|    Manhattan|   Battery Park City| Yellow Zone|\n",
      "|        14|     Brooklyn|           Bay Ridge|   Boro Zone|\n",
      "|        15|       Queens|Bay Terrace/Fort ...|   Boro Zone|\n",
      "|        16|       Queens|             Bayside|   Boro Zone|\n",
      "|        17|     Brooklyn|             Bedford|   Boro Zone|\n",
      "|        18|        Bronx|        Bedford Park|   Boro Zone|\n",
      "|        19|       Queens|           Bellerose|   Boro Zone|\n",
      "|        20|        Bronx|             Belmont|   Boro Zone|\n",
      "+----------+-------------+--------------------+------------+\n",
      "only showing top 20 rows\n",
      "\n"
     ]
    }
   ],
   "source": [
    "df_zones.show()"
   ]
  },
  {
   "cell_type": "code",
   "execution_count": 38,
   "id": "d36c03e0-9858-4944-bb80-2af6caa24840",
   "metadata": {},
   "outputs": [
    {
     "data": {
      "text/plain": [
       "DataFrame[hour: timestamp, zone: int, green_total_amount: double, green_count_records: bigint, yellow_total_amount: double, yellow_count_records: bigint]"
      ]
     },
     "execution_count": 38,
     "metadata": {},
     "output_type": "execute_result"
    }
   ],
   "source": [
    "df_join"
   ]
  },
  {
   "cell_type": "code",
   "execution_count": 39,
   "id": "6769544e-8988-480b-87d9-afab2d8d0902",
   "metadata": {},
   "outputs": [],
   "source": [
    "df_result = df_join.join(df_zones, df_join.zone == df_zones.LocationID)"
   ]
  },
  {
   "cell_type": "code",
   "execution_count": 41,
   "id": "8173d522-c751-455a-a629-298bfbd21ec7",
   "metadata": {},
   "outputs": [
    {
     "name": "stdout",
     "output_type": "stream",
     "text": [
      "+-------------------+----+------------------+-------------------+-------------------+--------------------+---------+--------------------+------------+\n",
      "|               hour|zone|green_total_amount|green_count_records|yellow_total_amount|yellow_count_records|  Borough|                Zone|service_zone|\n",
      "+-------------------+----+------------------+-------------------+-------------------+--------------------+---------+--------------------+------------+\n",
      "|2020-01-01 00:00:00|  14|              null|               null|                8.8|                   1| Brooklyn|           Bay Ridge|   Boro Zone|\n",
      "|2020-01-01 00:00:00|  15|              null|               null|              34.09|                   1|   Queens|Bay Terrace/Fort ...|   Boro Zone|\n",
      "|2020-01-01 00:00:00|  17|195.02999999999997|                  9| 220.20999999999998|                   8| Brooklyn|             Bedford|   Boro Zone|\n",
      "|2020-01-01 00:00:00|  25|             531.0|                 26|             324.35|                  16| Brooklyn|         Boerum Hill|   Boro Zone|\n",
      "|2020-01-01 00:00:00|  32| 68.94999999999999|                  2|               18.0|                   1|    Bronx|           Bronxdale|   Boro Zone|\n",
      "|2020-01-01 00:00:00|  43|            107.52|                  6|  6539.510000000013|                 390|Manhattan|        Central Park| Yellow Zone|\n",
      "|2020-01-01 00:00:00|  49|266.76000000000005|                 14|             185.65|                  10| Brooklyn|        Clinton Hill|   Boro Zone|\n",
      "|2020-01-01 00:00:00|  59|              50.9|                  3|               null|                null|    Bronx|        Crotona Park|   Boro Zone|\n",
      "|2020-01-01 00:00:00|  69|              11.8|                  1| 106.52000000000001|                   4|    Bronx|East Concourse/Co...|   Boro Zone|\n",
      "|2020-01-01 00:00:00|  71|              23.8|                  1|               null|                null| Brooklyn|East Flatbush/Far...|   Boro Zone|\n",
      "|2020-01-01 00:00:00|  72|             67.53|                  2|               null|                null| Brooklyn|East Flatbush/Rem...|   Boro Zone|\n",
      "|2020-01-01 00:00:00|  75|278.14000000000004|                 26|  958.3499999999992|                  69|Manhattan|   East Harlem South|   Boro Zone|\n",
      "|2020-01-01 00:00:00|  78|             34.46|                  2|               null|                null|    Bronx|        East Tremont|   Boro Zone|\n",
      "|2020-01-01 00:00:00|  82| 305.1200000000001|                 28|               29.8|                   1|   Queens|            Elmhurst|   Boro Zone|\n",
      "|2020-01-01 00:00:00|  85|             64.76|                  4| 102.56000000000002|                   3| Brooklyn|             Erasmus|   Boro Zone|\n",
      "|2020-01-01 00:00:00|  87|              null|               null| 2456.6699999999987|                 112|Manhattan|Financial Distric...| Yellow Zone|\n",
      "|2020-01-01 00:00:00|  93|              null|               null| 210.27999999999997|                   3|   Queens|Flushing Meadows-...|   Boro Zone|\n",
      "|2020-01-01 00:00:00| 107|              null|               null|  6441.030000000012|                 380|Manhattan|            Gramercy| Yellow Zone|\n",
      "|2020-01-01 00:00:00| 113|              null|               null| 3984.3200000000033|                 220|Manhattan|Greenwich Village...| Yellow Zone|\n",
      "|2020-01-01 00:00:00| 116| 328.7600000000001|                 18|  561.5100000000001|                  34|Manhattan|    Hamilton Heights|   Boro Zone|\n",
      "+-------------------+----+------------------+-------------------+-------------------+--------------------+---------+--------------------+------------+\n",
      "only showing top 20 rows\n",
      "\n"
     ]
    }
   ],
   "source": [
    "df_result.drop('LocationID').show()"
   ]
  },
  {
   "cell_type": "code",
   "execution_count": 43,
   "id": "67d368f9-c7bd-48c1-a9c1-b09b6fdcf4e1",
   "metadata": {},
   "outputs": [
    {
     "name": "stderr",
     "output_type": "stream",
     "text": [
      "                                                                                \r"
     ]
    }
   ],
   "source": [
    "df_result.drop('LocationID','zone').write.parquet('tmp/revenue-zones')"
   ]
  },
  {
   "cell_type": "code",
   "execution_count": null,
   "id": "ed42ba4a-3a7e-4062-a318-3112b5841e30",
   "metadata": {},
   "outputs": [],
   "source": []
  }
 ],
 "metadata": {
  "kernelspec": {
   "display_name": "Python 3 (ipykernel)",
   "language": "python",
   "name": "python3"
  },
  "language_info": {
   "codemirror_mode": {
    "name": "ipython",
    "version": 3
   },
   "file_extension": ".py",
   "mimetype": "text/x-python",
   "name": "python",
   "nbconvert_exporter": "python",
   "pygments_lexer": "ipython3",
   "version": "3.12.2"
  }
 },
 "nbformat": 4,
 "nbformat_minor": 5
}

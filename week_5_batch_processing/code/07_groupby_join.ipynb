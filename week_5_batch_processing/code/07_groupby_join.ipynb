{
 "cells": [
  {
   "cell_type": "code",
   "execution_count": 1,
   "id": "a9a4b358-6201-4b8b-b2e4-9449aac995e2",
   "metadata": {},
   "outputs": [
    {
     "name": "stderr",
     "output_type": "stream",
     "text": [
      "Setting default log level to \"WARN\".\n",
      "To adjust logging level use sc.setLogLevel(newLevel). For SparkR, use setLogLevel(newLevel).\n",
      "25/03/05 16:59:21 WARN NativeCodeLoader: Unable to load native-hadoop library for your platform... using builtin-java classes where applicable\n"
     ]
    }
   ],
   "source": [
    "import pyspark\n",
    "from pyspark.sql import SparkSession\n",
    "\n",
    "spark = SparkSession.builder \\\n",
    "    .master(\"local[*]\") \\\n",
    "    .appName('test') \\\n",
    "    .getOrCreate()"
   ]
  },
  {
   "cell_type": "code",
   "execution_count": 9,
   "id": "0a6306f5-1c9f-49e8-9f61-e44e7b38ba41",
   "metadata": {},
   "outputs": [
    {
     "name": "stderr",
     "output_type": "stream",
     "text": [
      "                                                                                \r"
     ]
    }
   ],
   "source": [
    "df_green = spark.read.parquet('data/pq/green/*/*')"
   ]
  },
  {
   "cell_type": "code",
   "execution_count": 10,
   "id": "2de57006-c755-4448-afbd-f54308a3b5d1",
   "metadata": {},
   "outputs": [
    {
     "name": "stderr",
     "output_type": "stream",
     "text": [
      "/home/polina/spark/spark-3.4.4-bin-hadoop3/python/pyspark/sql/dataframe.py:330: FutureWarning: Deprecated in 2.0, use createOrReplaceTempView instead.\n",
      "  warnings.warn(\"Deprecated in 2.0, use createOrReplaceTempView instead.\", FutureWarning)\n"
     ]
    }
   ],
   "source": [
    "df_green.registerTempTable('green')"
   ]
  },
  {
   "cell_type": "code",
   "execution_count": 21,
   "id": "2dd26d92-cf3f-486e-af92-111e8d8b1167",
   "metadata": {},
   "outputs": [],
   "source": [
    "df_green_revenue = spark.sql(\"\"\"\n",
    "SELECT \n",
    "    -- Revenue grouping \n",
    "    date_trunc(\"hour\", lpep_pickup_datetime) AS hour,\n",
    "    PULocationID AS zone,\n",
    "\n",
    "\n",
    "    SUM(total_amount) AS total_amount,\n",
    "    COUNT(1) AS count_records\n",
    "FROM \n",
    "    green\n",
    "WHERE\n",
    "    lpep_pickup_datetime >= '2020-01-01 00:00:00'\n",
    "    AND\n",
    "    lpep_pickup_datetime < '2022-01-01 00:00:00'\n",
    "GROUP BY \n",
    "    1,2\n",
    ";\n",
    "\"\"\")"
   ]
  },
  {
   "cell_type": "code",
   "execution_count": 22,
   "id": "84595033-7d9c-4496-a88e-f87d5d34e567",
   "metadata": {},
   "outputs": [
    {
     "name": "stderr",
     "output_type": "stream",
     "text": [
      "[Stage 21:===========================================>              (3 + 1) / 4]\r"
     ]
    },
    {
     "name": "stdout",
     "output_type": "stream",
     "text": [
      "+-------------------+----+------------------+-------------+\n",
      "|               hour|zone|      total_amount|count_records|\n",
      "+-------------------+----+------------------+-------------+\n",
      "|2020-01-31 11:00:00| 220|            168.08|            6|\n",
      "|2020-01-04 16:00:00| 196|210.44000000000005|           10|\n",
      "|2020-01-04 20:00:00|  25|369.57000000000005|           23|\n",
      "|2020-01-29 14:00:00| 203|             43.26|            2|\n",
      "|2020-01-02 13:00:00|  74|1037.6299999999994|           71|\n",
      "|2020-01-23 22:00:00|  35|             36.11|            2|\n",
      "|2020-01-26 12:00:00|  35|            257.03|            8|\n",
      "|2020-01-22 10:00:00|  74|1179.0599999999988|           83|\n",
      "|2020-01-10 22:00:00| 216|            181.89|            5|\n",
      "|2020-01-24 10:00:00| 260|            149.63|           10|\n",
      "|2020-01-24 05:00:00| 133|             19.78|            1|\n",
      "|2020-01-03 13:00:00| 250|              27.6|            2|\n",
      "|2020-01-16 01:00:00|   7|             110.1|            9|\n",
      "|2020-01-02 09:00:00|  66|             229.4|           12|\n",
      "|2020-01-11 22:00:00|  42|325.09000000000015|           30|\n",
      "|2020-01-16 20:00:00|  65| 501.2800000000002|           32|\n",
      "|2020-01-30 14:00:00| 227|             27.22|            1|\n",
      "|2020-01-19 19:00:00|  82|373.83000000000015|           31|\n",
      "|2020-01-07 11:00:00|  89|294.15999999999997|           12|\n",
      "|2020-01-08 15:00:00|  62|118.22000000000001|            5|\n",
      "+-------------------+----+------------------+-------------+\n",
      "only showing top 20 rows\n",
      "\n"
     ]
    },
    {
     "name": "stderr",
     "output_type": "stream",
     "text": [
      "                                                                                \r"
     ]
    }
   ],
   "source": [
    "df_green_revenue.show()"
   ]
  },
  {
   "cell_type": "code",
   "execution_count": 25,
   "id": "c2041329-ee48-4849-9b1d-d29411719285",
   "metadata": {},
   "outputs": [
    {
     "name": "stderr",
     "output_type": "stream",
     "text": [
      "                                                                                \r"
     ]
    }
   ],
   "source": [
    "df_green_revenue \\\n",
    "    .repartition(20) \\\n",
    "    .write.parquet('data/report/revenue/green', mode='overwrite')"
   ]
  },
  {
   "cell_type": "code",
   "execution_count": 26,
   "id": "bd747fb5-e72a-4e1d-a14f-06a77d5987a0",
   "metadata": {},
   "outputs": [],
   "source": [
    "df_yellow = spark.read.parquet('data/pq/yellow/*/*')\n",
    "df_yellow.registerTempTable('yellow')"
   ]
  },
  {
   "cell_type": "code",
   "execution_count": 29,
   "id": "ef51790c-adba-4344-b3cb-52d4f5ed5463",
   "metadata": {},
   "outputs": [],
   "source": [
    "df_yellow_revenue = spark.sql(\"\"\"\n",
    "SELECT \n",
    "    -- Revenue grouping \n",
    "    date_trunc(\"hour\", tpep_pickup_datetime) AS hour,\n",
    "    PULocationID AS zone,\n",
    "\n",
    "\n",
    "    SUM(total_amount) AS total_amount,\n",
    "    COUNT(1) AS count_records\n",
    "FROM \n",
    "    yellow\n",
    "WHERE\n",
    "    tpep_pickup_datetime >= '2020-01-01 00:00:00'\n",
    "    AND\n",
    "    tpep_pickup_datetime < '2022-01-01 00:00:00'\n",
    "GROUP BY \n",
    "    1,2\n",
    ";\n",
    "\"\"\")"
   ]
  },
  {
   "cell_type": "code",
   "execution_count": 30,
   "id": "85b73e55-a4c5-4c83-8243-949c56a159f4",
   "metadata": {},
   "outputs": [
    {
     "name": "stderr",
     "output_type": "stream",
     "text": [
      "                                                                                \r"
     ]
    }
   ],
   "source": [
    "df_yellow_revenue \\\n",
    "    .repartition(20) \\\n",
    "    .write.parquet('data/report/revenue/yellow', mode='overwrite')"
   ]
  },
  {
   "cell_type": "code",
   "execution_count": 31,
   "id": "adef0076-e1a8-42ee-9cf7-679af9100165",
   "metadata": {},
   "outputs": [
    {
     "name": "stderr",
     "output_type": "stream",
     "text": [
      "[Stage 41:====================================================>   (14 + 1) / 15]\r"
     ]
    },
    {
     "name": "stdout",
     "output_type": "stream",
     "text": [
      "+-------------------+----+------------------+-------------+\n",
      "|               hour|zone|      total_amount|count_records|\n",
      "+-------------------+----+------------------+-------------+\n",
      "|2020-01-29 18:00:00| 229| 5427.470000000005|          304|\n",
      "|2020-01-24 15:00:00| 264| 2249.289999999999|           93|\n",
      "|2020-01-21 18:00:00| 162|14090.389999999996|          816|\n",
      "|2020-01-18 00:00:00| 144| 2951.300000000001|          174|\n",
      "|2020-01-17 03:00:00| 132|2031.0099999999995|           46|\n",
      "|2020-01-23 19:00:00| 224|327.28000000000003|           16|\n",
      "|2020-01-06 08:00:00|  43| 2765.499999999998|          169|\n",
      "|2020-01-04 11:00:00| 140| 1662.959999999999|          112|\n",
      "|2020-01-04 23:00:00|  87| 744.2199999999999|           36|\n",
      "|2020-01-26 17:00:00| 107| 4251.760000000004|          274|\n",
      "|2020-01-31 13:00:00| 140| 4380.170000000002|          277|\n",
      "|2020-01-31 21:00:00|  50|1784.4399999999994|          104|\n",
      "|2020-01-08 08:00:00| 249| 2433.119999999999|          165|\n",
      "|2020-01-17 08:00:00|  13|2948.7200000000003|          162|\n",
      "|2020-01-09 17:00:00| 262|2858.6699999999983|          187|\n",
      "|2020-01-27 06:00:00| 238|2353.1599999999985|          126|\n",
      "|2020-01-21 16:00:00| 151|1384.1999999999991|          102|\n",
      "|2020-01-23 19:00:00| 164| 5608.690000000012|          321|\n",
      "|2020-01-24 12:00:00| 186| 7253.490000000013|          401|\n",
      "|2020-01-04 21:00:00| 233| 1634.709999999999|          112|\n",
      "+-------------------+----+------------------+-------------+\n",
      "only showing top 20 rows\n",
      "\n"
     ]
    },
    {
     "name": "stderr",
     "output_type": "stream",
     "text": [
      "                                                                                \r"
     ]
    }
   ],
   "source": [
    "df_yellow_revenue.show()"
   ]
  }
 ],
 "metadata": {
  "kernelspec": {
   "display_name": "Python 3 (ipykernel)",
   "language": "python",
   "name": "python3"
  },
  "language_info": {
   "codemirror_mode": {
    "name": "ipython",
    "version": 3
   },
   "file_extension": ".py",
   "mimetype": "text/x-python",
   "name": "python",
   "nbconvert_exporter": "python",
   "pygments_lexer": "ipython3",
   "version": "3.12.2"
  }
 },
 "nbformat": 4,
 "nbformat_minor": 5
}

{
 "cells": [
  {
   "cell_type": "code",
   "execution_count": 1,
   "id": "9cab2dc8-15a6-4a1d-abb8-dd477e84e61f",
   "metadata": {},
   "outputs": [],
   "source": [
    "import pyspark\n",
    "from pyspark.sql import SparkSession"
   ]
  },
  {
   "cell_type": "code",
   "execution_count": 2,
   "id": "aec2b2fc-719b-4fa9-a7f9-e7b2fa16fe11",
   "metadata": {},
   "outputs": [
    {
     "name": "stderr",
     "output_type": "stream",
     "text": [
      "Setting default log level to \"WARN\".\n",
      "To adjust logging level use sc.setLogLevel(newLevel). For SparkR, use setLogLevel(newLevel).\n",
      "25/02/27 18:02:44 WARN NativeCodeLoader: Unable to load native-hadoop library for your platform... using builtin-java classes where applicable\n"
     ]
    }
   ],
   "source": [
    "spark = SparkSession.builder \\\n",
    "    .master(\"local[*]\") \\\n",
    "    .appName('test') \\\n",
    "    .getOrCreate()"
   ]
  },
  {
   "cell_type": "code",
   "execution_count": 3,
   "id": "19b1683a-dc35-4e97-a7fc-d0843f2e9ed3",
   "metadata": {},
   "outputs": [],
   "source": [
    "#!wget https://d37ci6vzurychx.cloudfront.net/trip-data/fhv_tripdata_2021-01.parquet"
   ]
  },
  {
   "cell_type": "code",
   "execution_count": 4,
   "id": "beddfa36-f47b-4c05-ad15-0fd4bdc9d3e2",
   "metadata": {},
   "outputs": [
    {
     "name": "stderr",
     "output_type": "stream",
     "text": [
      "                                                                                \r"
     ]
    }
   ],
   "source": [
    "df = spark.read.parquet(\"fhv_tripdata_2021-01.parquet\")"
   ]
  },
  {
   "cell_type": "code",
   "execution_count": 5,
   "id": "a7ae5996-ff3f-4d22-bb32-8b20ff5a6c37",
   "metadata": {},
   "outputs": [],
   "source": [
    "#df.write.csv(\"fhv_tripdata_2021-01.csv\", header=True)"
   ]
  },
  {
   "cell_type": "code",
   "execution_count": 6,
   "id": "2f6c8be3-a2e6-47f7-859e-e8dab9a22ef5",
   "metadata": {},
   "outputs": [],
   "source": [
    "import pandas as pd"
   ]
  },
  {
   "cell_type": "code",
   "execution_count": 7,
   "id": "f3338fa5-2eeb-4ead-b6bb-9914b96e904c",
   "metadata": {},
   "outputs": [],
   "source": [
    "# df = pd.read_parquet(\"fhv_tripdata_2021-01.parquet\")\n",
    "# df.to_csv(\"fhv_tripdata_2021-01.csv\", index=False)"
   ]
  },
  {
   "cell_type": "code",
   "execution_count": 8,
   "id": "ba1d435b-68dd-46e4-ba98-5061269e3592",
   "metadata": {},
   "outputs": [
    {
     "name": "stdout",
     "output_type": "stream",
     "text": [
      "1154113 fhv_tripdata_2021-01.csv\n"
     ]
    }
   ],
   "source": [
    "!wc -l fhv_tripdata_2021-01.csv"
   ]
  },
  {
   "cell_type": "code",
   "execution_count": 9,
   "id": "628a4a0d-2739-463a-9e34-8b9f4b3080a2",
   "metadata": {},
   "outputs": [],
   "source": [
    "df = spark.read \\\n",
    "    .option(\"header\", \"true\") \\\n",
    "    .csv('fhv_tripdata_2021-01.csv')"
   ]
  },
  {
   "cell_type": "code",
   "execution_count": 10,
   "id": "a46d11ed-6198-4484-a29d-821c77d98ec1",
   "metadata": {
    "scrolled": true
   },
   "outputs": [
    {
     "data": {
      "text/plain": [
       "StructType([StructField('dispatching_base_num', StringType(), True), StructField('pickup_datetime', StringType(), True), StructField('dropOff_datetime', StringType(), True), StructField('PUlocationID', StringType(), True), StructField('DOlocationID', StringType(), True), StructField('SR_Flag', StringType(), True), StructField('Affiliated_base_number', StringType(), True)])"
      ]
     },
     "execution_count": 10,
     "metadata": {},
     "output_type": "execute_result"
    }
   ],
   "source": [
    "df.schema"
   ]
  },
  {
   "cell_type": "code",
   "execution_count": 11,
   "id": "6a998c28-bda5-4da3-b8cf-e25244379531",
   "metadata": {},
   "outputs": [],
   "source": [
    "!head -n 1001 fhv_tripdata_2021-01.csv > head.csv"
   ]
  },
  {
   "cell_type": "code",
   "execution_count": 12,
   "id": "3e695ccc-b181-4d15-8284-ea80adba9ee3",
   "metadata": {},
   "outputs": [
    {
     "name": "stdout",
     "output_type": "stream",
     "text": [
      "1001 head.csv\n",
      "dispatching_base_num,pickup_datetime,dropOff_datetime,PUlocationID,DOlocationID,SR_Flag,Affiliated_base_number\n",
      "B00009,2021-01-01 00:27:00,2021-01-01 00:44:00,,,,B00009\n",
      "B00009,2021-01-01 00:50:00,2021-01-01 01:07:00,,,,B00009\n",
      "B00013,2021-01-01 00:01:00,2021-01-01 01:51:00,,,,B00013\n",
      "B00037,2021-01-01 00:13:09,2021-01-01 00:21:26,,72.0,,B00037\n",
      "B00037,2021-01-01 00:38:31,2021-01-01 00:53:44,,61.0,,B00037\n",
      "B00037,2021-01-01 00:59:02,2021-01-01 01:08:05,,71.0,,B00037\n",
      "B00037,2021-01-01 00:18:12,2021-01-01 00:30:04,,91.0,,B00037\n",
      "B00037,2021-01-01 00:36:15,2021-01-01 00:45:08,,39.0,,B00037\n",
      "B00037,2021-01-01 00:55:04,2021-01-01 01:13:02,,37.0,,B00037\n"
     ]
    }
   ],
   "source": [
    "!wc -l head.csv\n",
    "!head -n 10 head.csv"
   ]
  },
  {
   "cell_type": "code",
   "execution_count": 13,
   "id": "4b2d12b8-9657-4771-961c-fbecc49b35a7",
   "metadata": {},
   "outputs": [],
   "source": [
    "df_pandas = pd.read_csv('head.csv')"
   ]
  },
  {
   "cell_type": "code",
   "execution_count": 14,
   "id": "2397c4ac-c44c-4adf-98c5-571e40c42701",
   "metadata": {},
   "outputs": [
    {
     "data": {
      "text/plain": [
       "dispatching_base_num       object\n",
       "pickup_datetime            object\n",
       "dropOff_datetime           object\n",
       "PUlocationID              float64\n",
       "DOlocationID              float64\n",
       "SR_Flag                   float64\n",
       "Affiliated_base_number     object\n",
       "dtype: object"
      ]
     },
     "execution_count": 14,
     "metadata": {},
     "output_type": "execute_result"
    }
   ],
   "source": [
    "df_pandas.dtypes"
   ]
  },
  {
   "cell_type": "code",
   "execution_count": 15,
   "id": "d0cb6ad9-7a7b-4b87-8c29-6dacd5068f82",
   "metadata": {},
   "outputs": [
    {
     "data": {
      "text/plain": [
       "StructType([StructField('dispatching_base_num', StringType(), True), StructField('pickup_datetime', StringType(), True), StructField('dropOff_datetime', StringType(), True), StructField('PUlocationID', DoubleType(), True), StructField('DOlocationID', DoubleType(), True), StructField('SR_Flag', DoubleType(), True), StructField('Affiliated_base_number', StringType(), True)])"
      ]
     },
     "execution_count": 15,
     "metadata": {},
     "output_type": "execute_result"
    }
   ],
   "source": [
    "spark.createDataFrame(df_pandas).schema"
   ]
  },
  {
   "cell_type": "code",
   "execution_count": 16,
   "id": "b40f2c31-e7e4-4cb1-88c4-72eccb6de620",
   "metadata": {},
   "outputs": [],
   "source": [
    "from pyspark.sql import types"
   ]
  },
  {
   "cell_type": "code",
   "execution_count": 17,
   "id": "4deb1b2b-dc18-42f8-bd94-7938c160204f",
   "metadata": {},
   "outputs": [],
   "source": [
    "schema = types.StructType([\n",
    "    types.StructField('dispatching_base_num',types.StringType(), True), \n",
    "    types.StructField('pickup_datetime',types.TimestampType(), True), \n",
    "    types.StructField('dropOff_datetime',types.TimestampType(), True), \n",
    "    types.StructField('PUlocationID',types.IntegerType(), True), \n",
    "    types.StructField('DOlocationID',types.IntegerType(), True), \n",
    "    types.StructField('SR_Flag',types.DoubleType(), True), \n",
    "    types.StructField('Affiliated_base_number',types.StringType(), True)\n",
    "])"
   ]
  },
  {
   "cell_type": "code",
   "execution_count": 20,
   "id": "7d592947-4641-467f-8db3-f60c37c8815c",
   "metadata": {},
   "outputs": [],
   "source": [
    "df = spark.read \\\n",
    "    .option(\"header\", \"true\") \\\n",
    "    .schema(schema) \\\n",
    "    .csv('fhv_tripdata_2021-01.csv')"
   ]
  },
  {
   "cell_type": "code",
   "execution_count": 25,
   "id": "e09a485d-da0b-4543-9754-2d329486938f",
   "metadata": {},
   "outputs": [
    {
     "data": {
      "text/plain": [
       "[('dispatching_base_num', 'string'),\n",
       " ('pickup_datetime', 'timestamp'),\n",
       " ('dropOff_datetime', 'timestamp'),\n",
       " ('PUlocationID', 'int'),\n",
       " ('DOlocationID', 'int'),\n",
       " ('SR_Flag', 'double'),\n",
       " ('Affiliated_base_number', 'string')]"
      ]
     },
     "execution_count": 25,
     "metadata": {},
     "output_type": "execute_result"
    }
   ],
   "source": [
    "df.dtypes"
   ]
  },
  {
   "cell_type": "code",
   "execution_count": 26,
   "id": "30bc7b61-82e3-424e-bd13-05b3a8527df7",
   "metadata": {},
   "outputs": [
    {
     "data": {
      "text/plain": [
       "DataFrame[dispatching_base_num: string, pickup_datetime: timestamp, dropOff_datetime: timestamp, PUlocationID: int, DOlocationID: int, SR_Flag: double, Affiliated_base_number: string]"
      ]
     },
     "execution_count": 26,
     "metadata": {},
     "output_type": "execute_result"
    }
   ],
   "source": [
    "df.repartition(24)"
   ]
  },
  {
   "cell_type": "code",
   "execution_count": 29,
   "id": "74c1e231-1995-4660-874c-6bed46b40d52",
   "metadata": {},
   "outputs": [
    {
     "name": "stderr",
     "output_type": "stream",
     "text": [
      "                                                                                \r"
     ]
    }
   ],
   "source": [
    "df.write.parquet('fhv/2021/01/', mode='overwrite')"
   ]
  },
  {
   "cell_type": "code",
   "execution_count": 31,
   "id": "b1fd8c4b-be56-4619-9db9-63e2ad4b9824",
   "metadata": {},
   "outputs": [],
   "source": [
    "df = spark.read.parquet('fhv/2021/01/')"
   ]
  },
  {
   "cell_type": "code",
   "execution_count": 33,
   "id": "ff42ce7e-8e54-428d-a0ce-f4e67109d0ee",
   "metadata": {},
   "outputs": [
    {
     "name": "stdout",
     "output_type": "stream",
     "text": [
      "root\n",
      " |-- dispatching_base_num: string (nullable = true)\n",
      " |-- pickup_datetime: timestamp (nullable = true)\n",
      " |-- dropOff_datetime: timestamp (nullable = true)\n",
      " |-- PUlocationID: integer (nullable = true)\n",
      " |-- DOlocationID: integer (nullable = true)\n",
      " |-- SR_Flag: double (nullable = true)\n",
      " |-- Affiliated_base_number: string (nullable = true)\n",
      "\n"
     ]
    }
   ],
   "source": [
    "df.printSchema()"
   ]
  },
  {
   "cell_type": "code",
   "execution_count": 34,
   "id": "df068b3d-ab05-490a-8505-b617820b3d6d",
   "metadata": {},
   "outputs": [
    {
     "name": "stdout",
     "output_type": "stream",
     "text": [
      "+--------------------+-------------------+-------------------+------------+------------+-------+----------------------+\n",
      "|dispatching_base_num|    pickup_datetime|   dropOff_datetime|PUlocationID|DOlocationID|SR_Flag|Affiliated_base_number|\n",
      "+--------------------+-------------------+-------------------+------------+------------+-------+----------------------+\n",
      "|              B00009|2021-01-01 00:27:00|2021-01-01 00:44:00|        null|        null|   null|                B00009|\n",
      "|              B00009|2021-01-01 00:50:00|2021-01-01 01:07:00|        null|        null|   null|                B00009|\n",
      "|              B00013|2021-01-01 00:01:00|2021-01-01 01:51:00|        null|        null|   null|                B00013|\n",
      "|              B00037|2021-01-01 00:13:09|2021-01-01 00:21:26|        null|        null|   null|                B00037|\n",
      "|              B00037|2021-01-01 00:38:31|2021-01-01 00:53:44|        null|        null|   null|                B00037|\n",
      "|              B00037|2021-01-01 00:59:02|2021-01-01 01:08:05|        null|        null|   null|                B00037|\n",
      "|              B00037|2021-01-01 00:18:12|2021-01-01 00:30:04|        null|        null|   null|                B00037|\n",
      "|              B00037|2021-01-01 00:36:15|2021-01-01 00:45:08|        null|        null|   null|                B00037|\n",
      "|              B00037|2021-01-01 00:55:04|2021-01-01 01:13:02|        null|        null|   null|                B00037|\n",
      "|              B00037|2021-01-01 00:48:40|2021-01-01 01:12:02|        null|        null|   null|                B00037|\n",
      "|              B00037|2021-01-01 00:27:23|2021-01-01 00:29:25|        null|        null|   null|                B00037|\n",
      "|              B00037|2021-01-01 00:39:07|2021-01-01 00:43:26|        null|        null|   null|                B00037|\n",
      "|              B00037|2021-01-01 00:55:57|2021-01-01 01:10:08|        null|        null|   null|                B00037|\n",
      "|              B00095|2021-01-01 00:17:54|2021-01-01 00:20:57|        null|        null|   null|                B00095|\n",
      "|              B00095|2021-01-01 00:31:59|2021-01-01 00:42:41|        null|        null|   null|                B00095|\n",
      "|              B00095|2021-01-01 00:46:23|2021-01-01 00:57:33|        null|        null|   null|                B00095|\n",
      "|              B00111|2021-01-01 00:40:00|2021-01-01 01:41:00|        null|        null|   null|                B03234|\n",
      "|              B00112|2021-01-01 00:21:10|2021-01-01 00:42:42|        null|        null|   null|                B00112|\n",
      "|              B00112|2021-01-01 00:53:10|2021-01-01 01:03:24|        null|        null|   null|                B00112|\n",
      "|              B00112|2021-01-01 00:28:12|2021-01-01 00:28:18|        null|        null|   null|                B00112|\n",
      "+--------------------+-------------------+-------------------+------------+------------+-------+----------------------+\n",
      "only showing top 20 rows\n",
      "\n"
     ]
    }
   ],
   "source": [
    "df.show()"
   ]
  },
  {
   "cell_type": "code",
   "execution_count": 37,
   "id": "9eb476e9-ab7a-4acc-89bc-7f01c6bd11a6",
   "metadata": {},
   "outputs": [
    {
     "name": "stdout",
     "output_type": "stream",
     "text": [
      "+--------------------+-------------------+-------------------+------------+------------+\n",
      "|dispatching_base_num|    pickup_datetime|   dropOff_datetime|PUlocationID|DOlocationID|\n",
      "+--------------------+-------------------+-------------------+------------+------------+\n",
      "|              B00009|2021-01-01 00:27:00|2021-01-01 00:44:00|        null|        null|\n",
      "|              B00009|2021-01-01 00:50:00|2021-01-01 01:07:00|        null|        null|\n",
      "|              B00009|2021-01-01 01:57:00|2021-01-01 02:41:00|        null|        null|\n",
      "|              B00009|2021-01-01 01:45:00|2021-01-01 01:56:00|        null|        null|\n",
      "|              B00009|2021-01-01 01:06:00|2021-01-01 01:18:00|        null|        null|\n",
      "|              B00009|2021-01-01 03:36:00|2021-01-01 03:56:00|        null|        null|\n",
      "|              B00009|2021-01-01 05:32:00|2021-01-01 05:52:00|        null|        null|\n",
      "|              B00009|2021-01-01 06:40:00|2021-01-01 06:52:00|        null|        null|\n",
      "|              B00009|2021-01-01 06:47:00|2021-01-01 07:18:00|        null|        null|\n",
      "|              B00009|2021-01-01 07:21:00|2021-01-01 07:43:00|        null|        null|\n",
      "|              B00009|2021-01-01 07:42:00|2021-01-01 07:59:00|        null|        null|\n",
      "|              B00009|2021-01-01 08:01:00|2021-01-01 08:17:00|        null|        null|\n",
      "|              B00009|2021-01-01 09:30:00|2021-01-01 09:59:00|        null|        null|\n",
      "|              B00009|2021-01-01 09:46:00|2021-01-01 10:03:00|        null|        null|\n",
      "|              B00009|2021-01-01 10:39:00|2021-01-01 10:53:00|        null|        null|\n",
      "|              B00009|2021-01-01 12:20:00|2021-01-01 12:33:00|        null|        null|\n",
      "|              B00009|2021-01-01 13:37:00|2021-01-01 13:54:00|        null|        null|\n",
      "|              B00009|2021-01-01 21:10:00|2021-01-01 21:18:00|        null|        null|\n",
      "|              B00009|2021-01-01 23:26:00|2021-01-01 23:51:00|        null|        null|\n",
      "|              B00009|2021-01-02 01:34:00|2021-01-02 01:48:00|        null|        null|\n",
      "+--------------------+-------------------+-------------------+------------+------------+\n",
      "only showing top 20 rows\n",
      "\n"
     ]
    }
   ],
   "source": [
    "df.select('dispatching_base_num','pickup_datetime', 'dropOff_datetime','PUlocationID','DOlocationID') \\\n",
    "    .filter(df.dispatching_base_num == 'B00009') \\\n",
    "    .show()"
   ]
  },
  {
   "cell_type": "code",
   "execution_count": 39,
   "id": "8ba2725f-13a5-4b83-9210-5042e2a6de21",
   "metadata": {},
   "outputs": [],
   "source": [
    "from pyspark.sql import functions as F"
   ]
  },
  {
   "cell_type": "code",
   "execution_count": 43,
   "id": "2a561a32-9241-4150-bf42-436b34a8e3f2",
   "metadata": {},
   "outputs": [
    {
     "name": "stdout",
     "output_type": "stream",
     "text": [
      "+-----------+------------+------------+------------+\n",
      "|pickup_date|dropOff_date|PUlocationID|DOlocationID|\n",
      "+-----------+------------+------------+------------+\n",
      "| 2021-01-01|  2021-01-01|        null|        null|\n",
      "| 2021-01-01|  2021-01-01|        null|        null|\n",
      "| 2021-01-01|  2021-01-01|        null|        null|\n",
      "| 2021-01-01|  2021-01-01|        null|        null|\n",
      "| 2021-01-01|  2021-01-01|        null|        null|\n",
      "| 2021-01-01|  2021-01-01|        null|        null|\n",
      "| 2021-01-01|  2021-01-01|        null|        null|\n",
      "| 2021-01-01|  2021-01-01|        null|        null|\n",
      "| 2021-01-01|  2021-01-01|        null|        null|\n",
      "| 2021-01-01|  2021-01-01|        null|        null|\n",
      "| 2021-01-01|  2021-01-01|        null|        null|\n",
      "| 2021-01-01|  2021-01-01|        null|        null|\n",
      "| 2021-01-01|  2021-01-01|        null|        null|\n",
      "| 2021-01-01|  2021-01-01|        null|        null|\n",
      "| 2021-01-01|  2021-01-01|        null|        null|\n",
      "| 2021-01-01|  2021-01-01|        null|        null|\n",
      "| 2021-01-01|  2021-01-01|        null|        null|\n",
      "| 2021-01-01|  2021-01-01|        null|        null|\n",
      "| 2021-01-01|  2021-01-01|        null|        null|\n",
      "| 2021-01-01|  2021-01-01|        null|        null|\n",
      "+-----------+------------+------------+------------+\n",
      "only showing top 20 rows\n",
      "\n"
     ]
    }
   ],
   "source": [
    "df \\\n",
    "    .withColumn('pickup_date', F.to_date(df.pickup_datetime)) \\\n",
    "    .withColumn('dropOff_date', F.to_date(df.dropOff_datetime)) \\\n",
    "    .select('pickup_date', 'dropOff_date','PUlocationID','DOlocationID') \\\n",
    "    .show()"
   ]
  },
  {
   "cell_type": "code",
   "execution_count": 58,
   "id": "c4349e48-32dc-487a-aa8d-6c514090a73a",
   "metadata": {},
   "outputs": [],
   "source": [
    "def crazy_function(dispatching_base_num):\n",
    "    num = int(dispatching_base_num[1:])\n",
    "    if num % 7 == 0:\n",
    "        return f's/{num:03x}'\n",
    "    elif num % 3 == 0:\n",
    "        return f'a/{num:03x}'\n",
    "    else:\n",
    "        return f'e/{num:03x}'"
   ]
  },
  {
   "cell_type": "code",
   "execution_count": 59,
   "id": "ec50b04f-a4ad-4637-8e07-80970ea83af4",
   "metadata": {},
   "outputs": [
    {
     "data": {
      "text/plain": [
       "'a/009'"
      ]
     },
     "execution_count": 59,
     "metadata": {},
     "output_type": "execute_result"
    }
   ],
   "source": [
    "crazy_function('B00009')"
   ]
  },
  {
   "cell_type": "code",
   "execution_count": 60,
   "id": "d590ca88-8051-40dd-8526-843b2055c710",
   "metadata": {},
   "outputs": [],
   "source": [
    "crazy_function_udf = F.udf(crazy_function, returnType=types.StringType())"
   ]
  },
  {
   "cell_type": "code",
   "execution_count": 61,
   "id": "0d1ca753-3c9d-4cf5-9736-e96c483ac63a",
   "metadata": {},
   "outputs": [
    {
     "name": "stderr",
     "output_type": "stream",
     "text": [
      "[Stage 15:>                                                         (0 + 1) / 1]\r"
     ]
    },
    {
     "name": "stdout",
     "output_type": "stream",
     "text": [
      "+-------+-----------+------------+------------+------------+\n",
      "|base_id|pickup_date|dropOff_date|PUlocationID|DOlocationID|\n",
      "+-------+-----------+------------+------------+------------+\n",
      "|  a/009| 2021-01-01|  2021-01-01|        null|        null|\n",
      "|  a/009| 2021-01-01|  2021-01-01|        null|        null|\n",
      "|  e/00d| 2021-01-01|  2021-01-01|        null|        null|\n",
      "|  e/025| 2021-01-01|  2021-01-01|        null|        null|\n",
      "|  e/025| 2021-01-01|  2021-01-01|        null|        null|\n",
      "|  e/025| 2021-01-01|  2021-01-01|        null|        null|\n",
      "|  e/025| 2021-01-01|  2021-01-01|        null|        null|\n",
      "|  e/025| 2021-01-01|  2021-01-01|        null|        null|\n",
      "|  e/025| 2021-01-01|  2021-01-01|        null|        null|\n",
      "|  e/025| 2021-01-01|  2021-01-01|        null|        null|\n",
      "|  e/025| 2021-01-01|  2021-01-01|        null|        null|\n",
      "|  e/025| 2021-01-01|  2021-01-01|        null|        null|\n",
      "|  e/025| 2021-01-01|  2021-01-01|        null|        null|\n",
      "|  e/05f| 2021-01-01|  2021-01-01|        null|        null|\n",
      "|  e/05f| 2021-01-01|  2021-01-01|        null|        null|\n",
      "|  e/05f| 2021-01-01|  2021-01-01|        null|        null|\n",
      "|  a/06f| 2021-01-01|  2021-01-01|        null|        null|\n",
      "|  s/070| 2021-01-01|  2021-01-01|        null|        null|\n",
      "|  s/070| 2021-01-01|  2021-01-01|        null|        null|\n",
      "|  s/070| 2021-01-01|  2021-01-01|        null|        null|\n",
      "+-------+-----------+------------+------------+------------+\n",
      "only showing top 20 rows\n",
      "\n"
     ]
    },
    {
     "name": "stderr",
     "output_type": "stream",
     "text": [
      "                                                                                \r"
     ]
    }
   ],
   "source": [
    "df \\\n",
    "    .withColumn('pickup_date', F.to_date(df.pickup_datetime)) \\\n",
    "    .withColumn('dropOff_date', F.to_date(df.dropOff_datetime)) \\\n",
    "    .withColumn('base_id',crazy_function_udf(df.dispatching_base_num)) \\\n",
    "    .select('base_id','pickup_date', 'dropOff_date','PUlocationID','DOlocationID') \\\n",
    "    .show()"
   ]
  }
 ],
 "metadata": {
  "kernelspec": {
   "display_name": "Python 3 (ipykernel)",
   "language": "python",
   "name": "python3"
  },
  "language_info": {
   "codemirror_mode": {
    "name": "ipython",
    "version": 3
   },
   "file_extension": ".py",
   "mimetype": "text/x-python",
   "name": "python",
   "nbconvert_exporter": "python",
   "pygments_lexer": "ipython3",
   "version": "3.12.2"
  }
 },
 "nbformat": 4,
 "nbformat_minor": 5
}
